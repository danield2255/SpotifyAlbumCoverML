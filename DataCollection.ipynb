{
 "cells": [
  {
   "cell_type": "code",
   "execution_count": 1,
   "metadata": {},
   "outputs": [],
   "source": [
    "import pandas as pd\n",
    "import numpy as np\n",
    "import os\n",
    "import time\n",
    "import spotipy\n",
    "from spotipy.oauth2 import SpotifyClientCredentials\n",
    "import spotipy.util as util\n",
    "import requests\n",
    "from PIL import Image\n",
    "from io import BytesIO\n",
    "import matplotlib.pyplot as plt\n",
    "%matplotlib inline"
   ]
  },
  {
   "cell_type": "code",
   "execution_count": 2,
   "metadata": {},
   "outputs": [],
   "source": [
    "clientId = os.environ.get('spotifyClientId')\n",
    "clientSecret = os.environ.get('spotifyClientSecret')\n",
    "clientCredentialsManager = SpotifyClientCredentials(client_id=clientId, client_secret=clientSecret)\n",
    "sp = spotipy.Spotify(client_credentials_manager=clientCredentialsManager) #spotify object to access API\n",
    "\n",
    "spotifyUsername =os.environ.get(\"spotifyUsername\")\n",
    "scope = 'user-read-private'\n",
    "SPOTIPY_REDIRECT_URI=os.environ.get('redirect_uri')\n",
    "token = util.prompt_for_user_token(spotifyUsername, scope, clientId, clientSecret,redirect_uri=SPOTIPY_REDIRECT_URI)\n",
    "if token:\n",
    "    sp = spotipy.Spotify(auth=token)\n",
    "else:\n",
    "    print(\"Can't get token for\", username)\n"
   ]
  },
  {
   "cell_type": "code",
   "execution_count": 3,
   "metadata": {},
   "outputs": [],
   "source": [
    "genres = [\n",
    "    \"country\",\n",
    "    \"edm\",\n",
    "    \"heavy-metal\",\n",
    "    \"hip-hop\",\n",
    "    \"jazz\",\n",
    "    \"pop\",\n",
    "    \"rock\"]"
   ]
  },
  {
   "cell_type": "code",
   "execution_count": 4,
   "metadata": {},
   "outputs": [
    {
     "name": "stdout",
     "output_type": "stream",
     "text": [
      "country\n",
      "{'tracks': [], 'seeds': [{'initialPoolSize': 0, 'afterFilteringSize': 0, 'afterRelinkingSize': 0, 'id': 'country', 'type': 'GENRE', 'href': None}]}\n",
      "[]\n",
      "{'tracks': [], 'seeds': [{'initialPoolSize': 0, 'afterFilteringSize': 0, 'afterRelinkingSize': 0, 'id': 'country', 'type': 'GENRE', 'href': None}]}\n",
      "[]\n",
      "edm\n",
      "{'tracks': [], 'seeds': [{'initialPoolSize': 0, 'afterFilteringSize': 0, 'afterRelinkingSize': 0, 'id': 'edm', 'type': 'GENRE', 'href': None}]}\n",
      "[]\n",
      "{'tracks': [], 'seeds': [{'initialPoolSize': 0, 'afterFilteringSize': 0, 'afterRelinkingSize': 0, 'id': 'edm', 'type': 'GENRE', 'href': None}]}\n",
      "[]\n",
      "heavy-metal\n",
      "{'tracks': [], 'seeds': [{'initialPoolSize': 0, 'afterFilteringSize': 0, 'afterRelinkingSize': 0, 'id': 'heavy-metal', 'type': 'GENRE', 'href': None}]}\n",
      "[]\n",
      "{'tracks': [], 'seeds': [{'initialPoolSize': 0, 'afterFilteringSize': 0, 'afterRelinkingSize': 0, 'id': 'heavy-metal', 'type': 'GENRE', 'href': None}]}\n",
      "[]\n",
      "hip-hop\n",
      "{'tracks': [], 'seeds': [{'initialPoolSize': 0, 'afterFilteringSize': 0, 'afterRelinkingSize': 0, 'id': 'hip-hop', 'type': 'GENRE', 'href': None}]}\n",
      "[]\n",
      "{'tracks': [], 'seeds': [{'initialPoolSize': 0, 'afterFilteringSize': 0, 'afterRelinkingSize': 0, 'id': 'hip-hop', 'type': 'GENRE', 'href': None}]}\n",
      "[]\n",
      "jazz\n",
      "{'tracks': [], 'seeds': [{'initialPoolSize': 0, 'afterFilteringSize': 0, 'afterRelinkingSize': 0, 'id': 'jazz', 'type': 'GENRE', 'href': None}]}\n",
      "[]\n",
      "{'tracks': [], 'seeds': [{'initialPoolSize': 0, 'afterFilteringSize': 0, 'afterRelinkingSize': 0, 'id': 'jazz', 'type': 'GENRE', 'href': None}]}\n",
      "[]\n",
      "pop\n",
      "{'tracks': [], 'seeds': [{'initialPoolSize': 0, 'afterFilteringSize': 0, 'afterRelinkingSize': 0, 'id': 'pop', 'type': 'GENRE', 'href': None}]}\n",
      "[]\n",
      "{'tracks': [], 'seeds': [{'initialPoolSize': 0, 'afterFilteringSize': 0, 'afterRelinkingSize': 0, 'id': 'pop', 'type': 'GENRE', 'href': None}]}\n",
      "[]\n",
      "rock\n",
      "{'tracks': [], 'seeds': [{'initialPoolSize': 0, 'afterFilteringSize': 0, 'afterRelinkingSize': 0, 'id': 'rock', 'type': 'GENRE', 'href': None}]}\n",
      "[]\n",
      "{'tracks': [], 'seeds': [{'initialPoolSize': 0, 'afterFilteringSize': 0, 'afterRelinkingSize': 0, 'id': 'rock', 'type': 'GENRE', 'href': None}]}\n",
      "[]\n"
     ]
    },
    {
     "data": {
      "text/html": [
       "<div>\n",
       "<style scoped>\n",
       "    .dataframe tbody tr th:only-of-type {\n",
       "        vertical-align: middle;\n",
       "    }\n",
       "\n",
       "    .dataframe tbody tr th {\n",
       "        vertical-align: top;\n",
       "    }\n",
       "\n",
       "    .dataframe thead th {\n",
       "        text-align: right;\n",
       "    }\n",
       "</style>\n",
       "<table border=\"1\" class=\"dataframe\">\n",
       "  <thead>\n",
       "    <tr style=\"text-align: right;\">\n",
       "      <th></th>\n",
       "    </tr>\n",
       "  </thead>\n",
       "  <tbody>\n",
       "  </tbody>\n",
       "</table>\n",
       "</div>"
      ],
      "text/plain": [
       "Empty DataFrame\n",
       "Columns: []\n",
       "Index: []"
      ]
     },
     "execution_count": 4,
     "metadata": {},
     "output_type": "execute_result"
    }
   ],
   "source": [
    "headers = {\n",
    "    'Authorization': 'Bearer {token}'.format(token=token)\n",
    "}\n",
    "rows = []\n",
    "for genre in genres:\n",
    "    result = requests.get(f\"https://api.spotify.com/v1/recommendations?seed_genres={genre}&limit=100\", headers=headers)\n",
    "    data = result.json()\n",
    "    for albNum in range(len(data[\"tracks\"])):\n",
    "        new_row = {}\n",
    "        try:\n",
    "            new_row[\"albName\"] = data[\"tracks\"][albNum][\"album\"][\"name\"]\n",
    "            artist = \"\"\n",
    "            for a in data[\"tracks\"][albNum][\"album\"][\"artists\"]:\n",
    "                artist = artist + a[\"name\"] + \" and \"\n",
    "            new_row[\"artist\"] = artist[:-5]\n",
    "            new_row[\"genre\"] = genre\n",
    "            new_row[\"img_url\"] = data[\"tracks\"][albNum][\"album\"][\"images\"][0][\"url\"]\n",
    "        except:\n",
    "            pass\n",
    "        rows.append(new_row)\n",
    "\n",
    "image_genre_data = pd.DataFrame(rows)\n",
    "image_genre_data.head()"
   ]
  },
  {
   "cell_type": "code",
   "execution_count": 24,
   "metadata": {},
   "outputs": [],
   "source": [
    "image_genre_data.to_csv(\"album_covers_genres.csv\")"
   ]
  },
  {
   "cell_type": "code",
   "execution_count": null,
   "metadata": {},
   "outputs": [],
   "source": []
  }
 ],
 "metadata": {
  "kernelspec": {
   "display_name": "Python 3",
   "language": "python",
   "name": "python3"
  },
  "language_info": {
   "codemirror_mode": {
    "name": "ipython",
    "version": 3
   },
   "file_extension": ".py",
   "mimetype": "text/x-python",
   "name": "python",
   "nbconvert_exporter": "python",
   "pygments_lexer": "ipython3",
   "version": "3.7.4"
  }
 },
 "nbformat": 4,
 "nbformat_minor": 4
}
